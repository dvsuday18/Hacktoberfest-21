 
from sklearn.datasets import load_breast_cancer
from sklearn.model_selection import train_test_split
from sklearn.neighbors import KNeighborsClassifier
import matplotlib.pyplot as plt
 
breast_cancer_data = load_breast_cancer()
 
#check the data value
# the data for the first person
#30 features per person
print(breast_cancer_data.data[0])                                                            
print(breast_cancer_data.feature_names)
print(breast_cancer_data.target)
print(breast_cancer_data.target_names)
# target got two boolean values, maligant( bad) and benign(good)( data label)
 
#Splitting the data into Training and Validation Sets
#train the data
#train_test_split(The data you want to split,The labels associated with that data,test_size, random_state)
#train_test_split returns 4 values: training set, validation set, training labels, validation labels
training_data, validation_data, training_labels, validation_labels = train_test_split(breast_cancer_data.data, breast_cancer_data.target, test_size = 0.2, random_state = 100)
 
#the length of training_data and training_labels should be the same
print(len(training_data))
print(len(training_labels))
 
#using loop to determine the k which will produce higher accuracy
# create an empty list which save the value of the accuracy
#this accuracies is for y-axis
accuracies = []
for k in range(1,101):
  #running the classifier, using k as k
  classifier = KNeighborsClassifier(n_neighbors =k)
  #train the classifier
  classifier.fit(training_data, training_labels)
  #test the accuracy on the validation set
  current_score = classifier.score(validation_data, validation_labels)
  accuracies.append(current_score)
 
max_value =0.0
count = 0
for n in range(1,len(accuracies)):
    if accuracies[n] > max_value: 
      max_value = accuracies[n]
      count = n
 
print(max_value, count)
#graphing the results instead of just print it out
#create a list which contains 1 to 100
# this k_list is for x-axis
k_list = range(1,101)
#plot the data
plt.plot(k_list, accuracies)
#add some labels
plt.xlabel("k")
plt.ylabel("Validation Accuracy")
plt.title("Breast Cancer Classifier Accuracy")
plt.show()
