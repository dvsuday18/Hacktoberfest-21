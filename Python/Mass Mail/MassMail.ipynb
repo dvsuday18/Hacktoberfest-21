{
 "cells": [
  {
   "cell_type": "code",
   "execution_count": 1,
   "id": "96c39b3c",
   "metadata": {},
   "outputs": [],
   "source": [
    "import pandas as p\n",
    "import smtplib as sm\n",
    "from email.mime.multipart import MIMEMultipart\n",
    "from email.mime.text import MIMEText"
   ]
  },
  {
   "cell_type": "code",
   "execution_count": 2,
   "id": "989c70ee",
   "metadata": {},
   "outputs": [],
   "source": [
    "data = p.read_excel(\"Data.xlsx\")"
   ]
  },
  {
   "cell_type": "code",
   "execution_count": 11,
   "id": "6415e768",
   "metadata": {},
   "outputs": [],
   "source": [
    "emails= data.get(\"Emails\")\n",
    "names= data.get(\"Name\")"
   ]
  },
  {
   "cell_type": "code",
   "execution_count": 12,
   "id": "0e8f4c62",
   "metadata": {},
   "outputs": [],
   "source": [
    "list_emails= list(emails)\n",
    "list_names= list(names)"
   ]
  },
  {
   "cell_type": "code",
   "execution_count": 13,
   "id": "e72e5ea9",
   "metadata": {},
   "outputs": [
    {
     "name": "stdout",
     "output_type": "stream",
     "text": [
      "Connection unexpectedly closed\n"
     ]
    }
   ],
   "source": [
    "try:\n",
    "    server = sm.SMTP(\"smtp.gmail.com\", 587)\n",
    "    server.starttls()\n",
    "    server.login(\"username@gmail.com\", \"password\")\n",
    "    from_=\"username@gmail.com\"\n",
    "    to_=list_emails\n",
    "    message = MIMEMultipart(\"alternative\")\n",
    "    message[\"Subject\"]= R\"\"\"Write Subject Here\"\"\"\n",
    "    message[\"From\"] = \"username@gmail.com\"\n",
    "    \n",
    "    for i in range(0,len(to_)):\n",
    "    \n",
    "        body = F\"\"\"\n",
    "Dear {list_names[i]},\n",
    "\n",
    "Write message here\n",
    "\n",
    "        \"\"\"\n",
    "        text = MIMEText(body, \"plain\")\n",
    "        message.attach(text)\n",
    "    \n",
    "        server.sendmail(from_,to_[i], message.as_string())\n",
    "\n",
    "except Exception as e:\n",
    "    print(e)\n",
    "    \n",
    "    "
   ]
  },
  {
   "cell_type": "code",
   "execution_count": null,
   "id": "3eb8a2bc",
   "metadata": {},
   "outputs": [],
   "source": []
  }
 ],
 "metadata": {
  "kernelspec": {
   "display_name": "Python 3",
   "language": "python",
   "name": "python3"
  },
  "language_info": {
   "codemirror_mode": {
    "name": "ipython",
    "version": 3
   },
   "file_extension": ".py",
   "mimetype": "text/x-python",
   "name": "python",
   "nbconvert_exporter": "python",
   "pygments_lexer": "ipython3",
   "version": "3.8.8"
  }
 },
 "nbformat": 4,
 "nbformat_minor": 5
}
